{
 "cells": [
  {
   "cell_type": "markdown",
   "metadata": {},
   "source": [
    "# Линейная регрессия (1D)"
   ]
  },
  {
   "cell_type": "markdown",
   "metadata": {},
   "source": [
    "### Сгенерируйте синтетический набор точек вида y = ax+b+noise. Решите задачу линейной регрессии для множества точек (x, y). Поиск параметров произведите с помощью градиентного спуска. Результат — параметры линейной регрессии."
   ]
  },
  {
   "cell_type": "code",
   "execution_count": 83,
   "metadata": {},
   "outputs": [],
   "source": [
    "import numpy as np\n",
    "from numpy import log, dot, e\n",
    "from numpy.random import rand, multivariate_normal, shuffle\n",
    "import seaborn as sns\n",
    "import matplotlib.pyplot as plt\n",
    "from collections import Counter"
   ]
  },
  {
   "cell_type": "code",
   "execution_count": 70,
   "metadata": {},
   "outputs": [],
   "source": [
    "class LinearReg():\n",
    "    \n",
    "    def __init__(self, learning_rate=0.001, max_iter=10000):\n",
    "        self.a = 0\n",
    "        self.b = 0\n",
    "        self.lr = learning_rate\n",
    "        self.epochs = max_iter\n",
    "    \n",
    "    def fit(self, X, Y):\n",
    "        n = float(len(X))\n",
    "        \"\"\"Gradient descent\"\"\"\n",
    "        for i in range(self.epochs): \n",
    "            Y_pred = self.a*X + self.b\n",
    "            self.a = self.a - self.lr * (-2/n) * sum(X * (Y - Y_pred))\n",
    "            self.b = self.b - self.lr * (-2/n) * sum(Y - Y_pred)\n",
    "    \n",
    "    def get_coef(self):\n",
    "        return self.a, self.b\n",
    "    \n",
    "    def predict(self, X):\n",
    "        return self.a * X + self.b"
   ]
  },
  {
   "cell_type": "code",
   "execution_count": 71,
   "metadata": {},
   "outputs": [
    {
     "name": "stdout",
     "output_type": "stream",
     "text": [
      "X: [ 0  1  2  3  4  5  6  7  8  9 10 11 12 13 14 15 16 17 18 19 20 21 22 23\n",
      " 24 25 26 27 28 29 30 31 32 33 34 35 36 37 38 39 40 41 42 43 44 45 46 47\n",
      " 48 49]\n",
      "Y: [  4.94546167   7.24322471   8.28283673   8.79001925  14.44572239\n",
      "  13.72917571  17.64393538  17.81505041  21.20923787  22.59662407\n",
      "  25.62304304  27.03698892  29.67502825  30.73084608  32.49544997\n",
      "  34.54442565  37.79286088  39.37657777  39.46284296  42.82773766\n",
      "  45.04773702  47.606996    47.46162416  51.15044413  52.25564861\n",
      "  54.55926301  56.75842887  58.627767    60.47783916  62.00870266\n",
      "  65.13112039  67.56490432  69.40332172  70.90287185  71.69203331\n",
      "  76.09080972  78.28075949  81.33534957  82.75560108  82.4213092\n",
      "  82.46966439  87.0324649   88.75192229  88.71469347  93.28255163\n",
      "  93.66712664  96.09192835 101.37286514 100.82850542 100.75992472]\n"
     ]
    },
    {
     "data": {
      "text/plain": [
       "(1.9997562485712903, 4.814254481630672)"
      ]
     },
     "execution_count": 71,
     "metadata": {},
     "output_type": "execute_result"
    }
   ],
   "source": [
    "X = np.array(range(50))\n",
    "Y = 2 * X + 5 + np.random.randn(len(X))\n",
    "print('X:',X)\n",
    "print('Y:',Y)\n",
    "lr = LinearReg()\n",
    "\n",
    "lr.fit(X,Y)\n",
    "lr.get_coef()"
   ]
  },
  {
   "cell_type": "markdown",
   "metadata": {},
   "source": [
    "# Логистическая регрессия (2D)"
   ]
  },
  {
   "cell_type": "markdown",
   "metadata": {},
   "source": [
    "### Сгенерируйте два синтетических набора точек на плоскости, добавьте им метки классов (2 класса). Визуализируйте множества (matplotlib). Разделите данные на тренировочный и тестовый набор. Реализуйте логистическую регрессию. Проверьте точность полученного алгоритма с помощью метрики accuracy (на тестовом множестве)."
   ]
  },
  {
   "cell_type": "code",
   "execution_count": 86,
   "metadata": {},
   "outputs": [],
   "source": [
    "'''generation'''\n",
    "labels = np.random.randint(0, 2, 100)\n",
    "noise = 0.6\n",
    "x = (np.random.rand(100) + labels) / 2\n",
    "y = x + np.random.rand(100) * noise\n",
    "\n",
    "x = x.reshape(-1, 1)\n",
    "y = y.reshape(-1, 1)\n",
    "labels = labels.reshape(-1, 1)\n",
    "data= np.hstack([np.ones_like(x),x,y,labels])"
   ]
  },
  {
   "cell_type": "code",
   "execution_count": 87,
   "metadata": {},
   "outputs": [
    {
     "data": {
      "image/png": "[encoded data removed]",
      "text/plain": [
       "<Figure size 432x288 with 1 Axes>"
      ]
     },
     "metadata": {
      "needs_background": "light"
     },
     "output_type": "display_data"
    }
   ],
   "source": [
    "plt.scatter(data[:,1][data[:,3] ==1], data[:,2][data[:,3] ==1], label='Class 1')\n",
    "plt.scatter(data[:,1][data[:,3] ==0], data[:,2][data[:,3] ==0], label='Class 0')\n",
    "plt.legend()\n",
    "plt.xlabel(\"x\")\n",
    "plt.ylabel(\"y\")\n",
    "plt.show()"
   ]
  },
  {
   "cell_type": "markdown",
   "metadata": {},
   "source": [
    "### split data"
   ]
  },
  {
   "cell_type": "code",
   "execution_count": 88,
   "metadata": {},
   "outputs": [],
   "source": [
    "np.random.shuffle(data)\n",
    "train_x,train_y = data[:,[0,1,2]][:70],data[:,3][:70]\n",
    "test_x,test_y = data[:,[0,1,2]][70:],data[:,3][70:]\n"
   ]
  },
  {
   "cell_type": "markdown",
   "metadata": {},
   "source": [
    "### sigmoid"
   ]
  },
  {
   "cell_type": "code",
   "execution_count": 89,
   "metadata": {},
   "outputs": [],
   "source": [
    "def sigmoid(x):\n",
    "    return 1 / (1 + np.exp(-x))"
   ]
  },
  {
   "cell_type": "code",
   "execution_count": 90,
   "metadata": {},
   "outputs": [],
   "source": [
    "def log_reg(X,y):\n",
    "    learning_rate=0.01\n",
    "    n_iters=5000\n",
    "    n_samples, n_features = X.shape\n",
    "    weights = np.zeros(n_features)\n",
    "    for i in range(n_iters):\n",
    "        y_predicted = sigmoid(X @ weights)        \n",
    "        weights = weights - (learning_rate / n_samples) * (X.T @ (y_predicted - y) )\n",
    "\n",
    "    return weights"
   ]
  },
  {
   "cell_type": "code",
   "execution_count": 91,
   "metadata": {},
   "outputs": [],
   "source": [
    "def predict(X, weights):\n",
    "    y_predicted = sigmoid(np.dot(X, weights))\n",
    "    predicted_labels = np.array([1 if i > 0.5 else 0 for i in y_predicted])\n",
    "    return predicted_labels"
   ]
  },
  {
   "cell_type": "code",
   "execution_count": 92,
   "metadata": {},
   "outputs": [],
   "source": [
    "def accuracy(y_true, y_pred):\n",
    "    return np.sum(y_true == y_pred) / len(y_true)"
   ]
  },
  {
   "cell_type": "markdown",
   "metadata": {},
   "source": [
    "### train model"
   ]
  },
  {
   "cell_type": "code",
   "execution_count": 93,
   "metadata": {},
   "outputs": [],
   "source": [
    "weights = log_reg(train_x,train_y)\n",
    "#test_y_predicted = predict(test_x,weights)\n"
   ]
  },
  {
   "cell_type": "markdown",
   "metadata": {},
   "source": [
    "### accuracy"
   ]
  },
  {
   "cell_type": "code",
   "execution_count": 94,
   "metadata": {},
   "outputs": [
    {
     "data": {
      "text/plain": [
       "0.8"
      ]
     },
     "execution_count": 94,
     "metadata": {},
     "output_type": "execute_result"
    }
   ],
   "source": [
    "accuracy(test_y,predict(test_x,weights))"
   ]
  },
  {
   "cell_type": "code",
   "execution_count": 95,
   "metadata": {},
   "outputs": [
    {
     "data": {
      "text/plain": [
       "array([-2.34076959,  2.83008264,  1.54280869])"
      ]
     },
     "execution_count": 95,
     "metadata": {},
     "output_type": "execute_result"
    }
   ],
   "source": [
    "weights"
   ]
  },
  {
   "cell_type": "code",
   "execution_count": 96,
   "metadata": {},
   "outputs": [
    {
     "data": {
      "image/png": "[encoded data removed]",
      "text/plain": [
       "<Figure size 432x288 with 1 Axes>"
      ]
     },
     "metadata": {
      "needs_background": "light"
     },
     "output_type": "display_data"
    }
   ],
   "source": [
    "x = np.linspace(0,1, 15)\n",
    "\n",
    "c,a,b = weights# weights\n",
    "\n",
    "y = -(a*x+c)/b\n",
    "plt.scatter(data[:,1][data[:,3] ==1], data[:,2][data[:,3] ==1], label='Class 1')\n",
    "plt.scatter(data[:,1][data[:,3] ==0], data[:,2][data[:,3] ==0], label='Class 0')\n",
    "plt.plot(x,y)\n",
    "plt.legend()\n",
    "plt.xlabel('x')\n",
    "plt.ylabel('y')\n",
    "plt.show()"
   ]
  },
  {
   "cell_type": "markdown",
   "metadata": {},
   "source": [
    "# Дерево принятия решений (2D)\n"
   ]
  },
  {
   "cell_type": "markdown",
   "metadata": {},
   "source": [
    "### Рассмотрите те же данные, что и в задании 2. Разделите точки на классы с помощью алгоритма CART(gini criterion). Ограничьте глубину дерева (по вашему выбору). Проверьте точность полученного алгоритма с помощью метрики accuracy на тестовом наборе."
   ]
  },
  {
   "cell_type": "code",
   "execution_count": 154,
   "metadata": {},
   "outputs": [],
   "source": [
    "'''generation'''\n",
    "labels = np.random.randint(0, 2, 200)\n",
    "noise = 0.6\n",
    "x = (np.random.rand(200) + labels) / 2\n",
    "y = x*(-1) + np.random.rand(200) * noise\n",
    "\n",
    "x = x.reshape(-1, 1)*200\n",
    "y = y.reshape(-1, 1)*200\n",
    "labels = labels.reshape(-1, 1)\n",
    "data= np.hstack([x,y,labels]).astype(\"int\")"
   ]
  },
  {
   "cell_type": "code",
   "execution_count": 155,
   "metadata": {},
   "outputs": [
    {
     "data": {
      "image/png": "[encoded data removed]",
      "text/plain": [
       "<Figure size 432x288 with 1 Axes>"
      ]
     },
     "metadata": {
      "needs_background": "light"
     },
     "output_type": "display_data"
    }
   ],
   "source": [
    "plt.scatter(data[:,0][data[:,2] ==1], data[:,1][data[:,2] ==1], label='Class 1')\n",
    "plt.scatter(data[:,0][data[:,2] ==0], data[:,1][data[:,2] ==0], label='Class 0')\n",
    "plt.legend()\n",
    "plt.xlabel(\"x\")\n",
    "plt.ylabel(\"y\")\n",
    "plt.show()"
   ]
  },
  {
   "cell_type": "markdown",
   "metadata": {},
   "source": [
    "### split data"
   ]
  },
  {
   "cell_type": "code",
   "execution_count": 156,
   "metadata": {},
   "outputs": [],
   "source": [
    "np.random.shuffle(data)\n",
    "train_x,train_y = data[:,[0,1]][:70],data[:,2][:70]\n",
    "test_x,test_y = data[:,[0,1]][70:],data[:,2][70:]\n"
   ]
  },
  {
   "cell_type": "code",
   "execution_count": 157,
   "metadata": {},
   "outputs": [],
   "source": [
    "def entropy(y):\n",
    "    hist = np.bincount(y)\n",
    "    ps = hist / len(y)\n",
    "    return -np.sum([p * np.log2(p) for p in ps if p > 0])"
   ]
  },
  {
   "cell_type": "code",
   "execution_count": 158,
   "metadata": {},
   "outputs": [],
   "source": [
    "class DecisionTree:\n",
    "\n",
    "    def __init__(self, min_samples_split=2, max_depth=100, n_feats=None):\n",
    "        self.min_samples_split = min_samples_split\n",
    "        self.max_depth = max_depth\n",
    "        self.n_feats = n_feats\n",
    "        self.root = None\n",
    "\n",
    "    def fit(self, X, y):\n",
    "        if not self.n_feats:\n",
    "            self.n_feats = X.shape[1]\n",
    "        else:\n",
    "            self.n_feats = min(self.n_feats, X.shape[1])\n",
    "        # taking X and y\n",
    "        # creating tree\n",
    "        self.root = self._create_tree(X, y)\n",
    "\n",
    "    def predict(self, X):\n",
    "        return np.array([self._traverse_tree(x, self.root) for x in X])\n",
    "\n",
    "    def _create_tree(self, X, y, depth=0):\n",
    "        n_samples, n_features = X.shape\n",
    "        n_labels = len(np.unique(y))\n",
    "\n",
    "        # stopping  working\n",
    "        if (depth >= self.max_depth or n_labels == 1  or n_samples < self.min_samples_split):\n",
    "            leaf_value = self._most_common_label(y)\n",
    "            # returning Node\n",
    "            return Node(value=leaf_value)\n",
    "\n",
    "        feat_idxs = np.random.choice(n_features, self.n_feats, replace=False)\n",
    "\n",
    "        # greedily select the best split according to information gain\n",
    "        best_feat, best_thresh = self._best_criteria(X, y, feat_idxs)\n",
    "        \n",
    "        # grow the children that result from the split\n",
    "        left_idxs, right_idxs = self._split(X[:, best_feat], best_thresh)\n",
    "        left = self._create_tree(X[left_idxs, :], y[left_idxs], depth+1)\n",
    "        right = self._create_tree(X[right_idxs, :], y[right_idxs], depth+1)\n",
    "        return Node(best_feat, best_thresh, left, right)\n",
    "\n",
    "    def _best_criteria(self, X, y, feat_idxs):\n",
    "        best_gain = -1\n",
    "        split_idx, split_thresh = None, None\n",
    "        for feat_idx in feat_idxs:\n",
    "            X_column = X[:, feat_idx]\n",
    "            thresholds = np.unique(X_column)\n",
    "            for threshold in thresholds:\n",
    "                gain = self._information_gain(y, X_column, threshold)\n",
    "\n",
    "                if gain > best_gain:\n",
    "                    best_gain = gain\n",
    "                    split_idx = feat_idx\n",
    "                    split_thresh = threshold\n",
    "\n",
    "        return split_idx, split_thresh\n",
    "\n",
    "    def _information_gain(self, y, X_column, split_thresh):\n",
    "        # parent loss\n",
    "        parent_entropy = entropy(y)\n",
    "\n",
    "        # generate split\n",
    "        left_idxs, right_idxs = self._split(X_column, split_thresh)\n",
    "\n",
    "        if len(left_idxs) == 0 or len(right_idxs) == 0:\n",
    "            return 0\n",
    "\n",
    "        # compute the weighted avg. of the loss for the children\n",
    "        n = len(y)\n",
    "        n_l, n_r = len(left_idxs), len(right_idxs)\n",
    "        e_l, e_r = entropy(y[left_idxs]), entropy(y[right_idxs])\n",
    "        child_entropy = (n_l / n) * e_l + (n_r / n) * e_r\n",
    "\n",
    "        # information gain is difference in loss before vs. after split\n",
    "        ig = parent_entropy - child_entropy\n",
    "        return ig\n",
    "\n",
    "    def _split(self, X_column, split_thresh):\n",
    "        left_idxs = np.argwhere(X_column <= split_thresh).flatten()\n",
    "        right_idxs = np.argwhere(X_column > split_thresh).flatten()\n",
    "        return left_idxs, right_idxs\n",
    "\n",
    "    def _traverse_tree(self, x, node):\n",
    "        if node.is_leaf_node():\n",
    "            return node.value\n",
    "\n",
    "        if x[node.feature] <= node.threshold:\n",
    "            return self._traverse_tree(x, node.left)\n",
    "        return self._traverse_tree(x, node.right)\n",
    "\n",
    "    def _most_common_label(self, y):\n",
    "        counter = Counter(y)\n",
    "        most_common = counter.most_common(1)[0][0]\n",
    "        return most_common\n",
    "    \n",
    "    \n",
    "class Node:\n",
    "    def __init__(self, feature=None, threshold=None, left=None, right=None, *, value=None):\n",
    "        self.feature = feature\n",
    "        self.threshold = threshold\n",
    "        self.left = left\n",
    "        self.right = right\n",
    "        self.value = value\n",
    "\n",
    "    def is_leaf_node(self):\n",
    "        return self.value is not None"
   ]
  },
  {
   "cell_type": "code",
   "execution_count": 159,
   "metadata": {},
   "outputs": [
    {
     "name": "stdout",
     "output_type": "stream",
     "text": [
      "Accuracy: 0.9769230769230769\n"
     ]
    }
   ],
   "source": [
    "from sklearn.model_selection import train_test_split\n",
    "\n",
    "def accuracy(y_true, y_pred):\n",
    "    accuracy = np.sum(y_true == y_pred) / len(y_true)\n",
    "    return accuracy\n",
    "\n",
    "clf = DecisionTree(max_depth=10)\n",
    "clf.fit(train_x,train_y )\n",
    "    \n",
    "y_pred = clf.predict(test_x)\n",
    "acc = accuracy(test_y,y_pred)\n",
    "\n",
    "print (\"Accuracy:\", acc)"
   ]
  }
 ],
 "metadata": {
  "kernelspec": {
   "display_name": "Python 3",
   "language": "python",
   "name": "python3"
  },
  "language_info": {
   "codemirror_mode": {
    "name": "ipython",
    "version": 3
   },
   "file_extension": ".py",
   "mimetype": "text/x-python",
   "name": "python",
   "nbconvert_exporter": "python",
   "pygments_lexer": "ipython3",
   "version": "3.8.2"
  }
 },
 "nbformat": 4,
 "nbformat_minor": 4
}
