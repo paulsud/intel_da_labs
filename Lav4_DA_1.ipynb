{
 "cells": [
  {
   "cell_type": "markdown",
   "metadata": {},
   "source": [
    "# 1. Полносвязные сети (многослойный персептрон)\n",
    "### Решите задачу классификации на данных, с которыми вы работали в лабораторной No 2, результат сравните с полученными ранее"
   ]
  },
  {
   "cell_type": "code",
   "execution_count": 6,
   "metadata": {},
   "outputs": [],
   "source": [
    "import matplotlib.pyplot as plt  \n",
    "%matplotlib inline\n",
    "import seaborn as sns\n",
    "import pandas as pd\n",
    "import torch\n",
    "import torch.nn as nn\n",
    "import torch.nn.functional as F\n",
    "import torch.optim as optim\n",
    "from sklearn.model_selection import train_test_split\n",
    "from sklearn.metrics import accuracy_score, confusion_matrix, classification_report"
   ]
  },
  {
   "cell_type": "code",
   "execution_count": 7,
   "metadata": {
    "_cell_guid": "79c7e3d0-c299-4dcb-8224-4455121ee9b0",
    "_uuid": "d629ff2d2480ee46fbb7e2d37f6b5fab8052498a"
   },
   "outputs": [],
   "source": [
    "df = pd.read_csv(\"pulsar_stars.csv\")"
   ]
  },
  {
   "cell_type": "code",
   "execution_count": 8,
   "metadata": {},
   "outputs": [
    {
     "data": {
      "text/html": [
       "<div>\n",
       "<style scoped>\n",
       "    .dataframe tbody tr th:only-of-type {\n",
       "        vertical-align: middle;\n",
       "    }\n",
       "\n",
       "    .dataframe tbody tr th {\n",
       "        vertical-align: top;\n",
       "    }\n",
       "\n",
       "    .dataframe thead th {\n",
       "        text-align: right;\n",
       "    }\n",
       "</style>\n",
       "<table border=\"1\" class=\"dataframe\">\n",
       "  <thead>\n",
       "    <tr style=\"text-align: right;\">\n",
       "      <th></th>\n",
       "      <th>Mean of the integrated profile</th>\n",
       "      <th>Standard deviation of the integrated profile</th>\n",
       "      <th>Excess kurtosis of the integrated profile</th>\n",
       "      <th>Skewness of the integrated profile</th>\n",
       "      <th>Mean of the DM-SNR curve</th>\n",
       "      <th>Standard deviation of the DM-SNR curve</th>\n",
       "      <th>Excess kurtosis of the DM-SNR curve</th>\n",
       "      <th>Skewness of the DM-SNR curve</th>\n",
       "      <th>Type</th>\n",
       "    </tr>\n",
       "  </thead>\n",
       "  <tbody>\n",
       "    <tr>\n",
       "      <th>0</th>\n",
       "      <td>140.562500</td>\n",
       "      <td>55.683782</td>\n",
       "      <td>-0.234571</td>\n",
       "      <td>-0.699648</td>\n",
       "      <td>3.199833</td>\n",
       "      <td>19.110426</td>\n",
       "      <td>7.975532</td>\n",
       "      <td>74.242225</td>\n",
       "      <td>0</td>\n",
       "    </tr>\n",
       "    <tr>\n",
       "      <th>1</th>\n",
       "      <td>102.507812</td>\n",
       "      <td>58.882430</td>\n",
       "      <td>0.465318</td>\n",
       "      <td>-0.515088</td>\n",
       "      <td>1.677258</td>\n",
       "      <td>14.860146</td>\n",
       "      <td>10.576487</td>\n",
       "      <td>127.393580</td>\n",
       "      <td>0</td>\n",
       "    </tr>\n",
       "    <tr>\n",
       "      <th>2</th>\n",
       "      <td>103.015625</td>\n",
       "      <td>39.341649</td>\n",
       "      <td>0.323328</td>\n",
       "      <td>1.051164</td>\n",
       "      <td>3.121237</td>\n",
       "      <td>21.744669</td>\n",
       "      <td>7.735822</td>\n",
       "      <td>63.171909</td>\n",
       "      <td>0</td>\n",
       "    </tr>\n",
       "    <tr>\n",
       "      <th>3</th>\n",
       "      <td>136.750000</td>\n",
       "      <td>57.178449</td>\n",
       "      <td>-0.068415</td>\n",
       "      <td>-0.636238</td>\n",
       "      <td>3.642977</td>\n",
       "      <td>20.959280</td>\n",
       "      <td>6.896499</td>\n",
       "      <td>53.593661</td>\n",
       "      <td>0</td>\n",
       "    </tr>\n",
       "    <tr>\n",
       "      <th>4</th>\n",
       "      <td>88.726562</td>\n",
       "      <td>40.672225</td>\n",
       "      <td>0.600866</td>\n",
       "      <td>1.123492</td>\n",
       "      <td>1.178930</td>\n",
       "      <td>11.468720</td>\n",
       "      <td>14.269573</td>\n",
       "      <td>252.567306</td>\n",
       "      <td>0</td>\n",
       "    </tr>\n",
       "  </tbody>\n",
       "</table>\n",
       "</div>"
      ],
      "text/plain": [
       "    Mean of the integrated profile  \\\n",
       "0                       140.562500   \n",
       "1                       102.507812   \n",
       "2                       103.015625   \n",
       "3                       136.750000   \n",
       "4                        88.726562   \n",
       "\n",
       "    Standard deviation of the integrated profile  \\\n",
       "0                                      55.683782   \n",
       "1                                      58.882430   \n",
       "2                                      39.341649   \n",
       "3                                      57.178449   \n",
       "4                                      40.672225   \n",
       "\n",
       "    Excess kurtosis of the integrated profile  \\\n",
       "0                                   -0.234571   \n",
       "1                                    0.465318   \n",
       "2                                    0.323328   \n",
       "3                                   -0.068415   \n",
       "4                                    0.600866   \n",
       "\n",
       "    Skewness of the integrated profile   Mean of the DM-SNR curve  \\\n",
       "0                            -0.699648                   3.199833   \n",
       "1                            -0.515088                   1.677258   \n",
       "2                             1.051164                   3.121237   \n",
       "3                            -0.636238                   3.642977   \n",
       "4                             1.123492                   1.178930   \n",
       "\n",
       "    Standard deviation of the DM-SNR curve  \\\n",
       "0                                19.110426   \n",
       "1                                14.860146   \n",
       "2                                21.744669   \n",
       "3                                20.959280   \n",
       "4                                11.468720   \n",
       "\n",
       "    Excess kurtosis of the DM-SNR curve   Skewness of the DM-SNR curve  Type  \n",
       "0                              7.975532                      74.242225     0  \n",
       "1                             10.576487                     127.393580     0  \n",
       "2                              7.735822                      63.171909     0  \n",
       "3                              6.896499                      53.593661     0  \n",
       "4                             14.269573                     252.567306     0  "
      ]
     },
     "execution_count": 8,
     "metadata": {},
     "output_type": "execute_result"
    }
   ],
   "source": [
    "df.head()"
   ]
  },
  {
   "cell_type": "code",
   "execution_count": 9,
   "metadata": {},
   "outputs": [],
   "source": [
    "inputs = df.drop(\"Type\", axis=1)\n",
    "labels = df['Type']"
   ]
  },
  {
   "cell_type": "code",
   "execution_count": 10,
   "metadata": {},
   "outputs": [
    {
     "data": {
      "text/plain": [
       "<AxesSubplot:>"
      ]
     },
     "execution_count": 10,
     "metadata": {},
     "output_type": "execute_result"
    },
    {
     "data": {
      "image/png": "[encoded data removed]",
      "text/plain": [
       "<Figure size 432x288 with 1 Axes>"
      ]
     },
     "metadata": {
      "needs_background": "light"
     },
     "output_type": "display_data"
    }
   ],
   "source": [
    "labels.hist(bins=2)  "
   ]
  },
  {
   "cell_type": "code",
   "execution_count": 11,
   "metadata": {},
   "outputs": [
    {
     "data": {
      "text/html": [
       "<div>\n",
       "<style scoped>\n",
       "    .dataframe tbody tr th:only-of-type {\n",
       "        vertical-align: middle;\n",
       "    }\n",
       "\n",
       "    .dataframe tbody tr th {\n",
       "        vertical-align: top;\n",
       "    }\n",
       "\n",
       "    .dataframe thead th {\n",
       "        text-align: right;\n",
       "    }\n",
       "</style>\n",
       "<table border=\"1\" class=\"dataframe\">\n",
       "  <thead>\n",
       "    <tr style=\"text-align: right;\">\n",
       "      <th></th>\n",
       "      <th>Mean of the integrated profile</th>\n",
       "      <th>Standard deviation of the integrated profile</th>\n",
       "      <th>Excess kurtosis of the integrated profile</th>\n",
       "      <th>Skewness of the integrated profile</th>\n",
       "      <th>Mean of the DM-SNR curve</th>\n",
       "      <th>Standard deviation of the DM-SNR curve</th>\n",
       "      <th>Excess kurtosis of the DM-SNR curve</th>\n",
       "      <th>Skewness of the DM-SNR curve</th>\n",
       "    </tr>\n",
       "  </thead>\n",
       "  <tbody>\n",
       "    <tr>\n",
       "      <th>0</th>\n",
       "      <td>140.562500</td>\n",
       "      <td>55.683782</td>\n",
       "      <td>-0.234571</td>\n",
       "      <td>-0.699648</td>\n",
       "      <td>3.199833</td>\n",
       "      <td>19.110426</td>\n",
       "      <td>7.975532</td>\n",
       "      <td>74.242225</td>\n",
       "    </tr>\n",
       "    <tr>\n",
       "      <th>1</th>\n",
       "      <td>102.507812</td>\n",
       "      <td>58.882430</td>\n",
       "      <td>0.465318</td>\n",
       "      <td>-0.515088</td>\n",
       "      <td>1.677258</td>\n",
       "      <td>14.860146</td>\n",
       "      <td>10.576487</td>\n",
       "      <td>127.393580</td>\n",
       "    </tr>\n",
       "    <tr>\n",
       "      <th>2</th>\n",
       "      <td>103.015625</td>\n",
       "      <td>39.341649</td>\n",
       "      <td>0.323328</td>\n",
       "      <td>1.051164</td>\n",
       "      <td>3.121237</td>\n",
       "      <td>21.744669</td>\n",
       "      <td>7.735822</td>\n",
       "      <td>63.171909</td>\n",
       "    </tr>\n",
       "    <tr>\n",
       "      <th>3</th>\n",
       "      <td>136.750000</td>\n",
       "      <td>57.178449</td>\n",
       "      <td>-0.068415</td>\n",
       "      <td>-0.636238</td>\n",
       "      <td>3.642977</td>\n",
       "      <td>20.959280</td>\n",
       "      <td>6.896499</td>\n",
       "      <td>53.593661</td>\n",
       "    </tr>\n",
       "    <tr>\n",
       "      <th>4</th>\n",
       "      <td>88.726562</td>\n",
       "      <td>40.672225</td>\n",
       "      <td>0.600866</td>\n",
       "      <td>1.123492</td>\n",
       "      <td>1.178930</td>\n",
       "      <td>11.468720</td>\n",
       "      <td>14.269573</td>\n",
       "      <td>252.567306</td>\n",
       "    </tr>\n",
       "  </tbody>\n",
       "</table>\n",
       "</div>"
      ],
      "text/plain": [
       "    Mean of the integrated profile  \\\n",
       "0                       140.562500   \n",
       "1                       102.507812   \n",
       "2                       103.015625   \n",
       "3                       136.750000   \n",
       "4                        88.726562   \n",
       "\n",
       "    Standard deviation of the integrated profile  \\\n",
       "0                                      55.683782   \n",
       "1                                      58.882430   \n",
       "2                                      39.341649   \n",
       "3                                      57.178449   \n",
       "4                                      40.672225   \n",
       "\n",
       "    Excess kurtosis of the integrated profile  \\\n",
       "0                                   -0.234571   \n",
       "1                                    0.465318   \n",
       "2                                    0.323328   \n",
       "3                                   -0.068415   \n",
       "4                                    0.600866   \n",
       "\n",
       "    Skewness of the integrated profile   Mean of the DM-SNR curve  \\\n",
       "0                            -0.699648                   3.199833   \n",
       "1                            -0.515088                   1.677258   \n",
       "2                             1.051164                   3.121237   \n",
       "3                            -0.636238                   3.642977   \n",
       "4                             1.123492                   1.178930   \n",
       "\n",
       "    Standard deviation of the DM-SNR curve  \\\n",
       "0                                19.110426   \n",
       "1                                14.860146   \n",
       "2                                21.744669   \n",
       "3                                20.959280   \n",
       "4                                11.468720   \n",
       "\n",
       "    Excess kurtosis of the DM-SNR curve   Skewness of the DM-SNR curve  \n",
       "0                              7.975532                      74.242225  \n",
       "1                             10.576487                     127.393580  \n",
       "2                              7.735822                      63.171909  \n",
       "3                              6.896499                      53.593661  \n",
       "4                             14.269573                     252.567306  "
      ]
     },
     "execution_count": 11,
     "metadata": {},
     "output_type": "execute_result"
    }
   ],
   "source": [
    "inputs.head()"
   ]
  },
  {
   "cell_type": "markdown",
   "metadata": {},
   "source": [
    "## Building the Network\n",
    "\n",
    "We use 3 fully connected layers. The first layer has an input shape of 8 because there are 8 fields"
   ]
  },
  {
   "cell_type": "code",
   "execution_count": 12,
   "metadata": {},
   "outputs": [],
   "source": [
    "class PulsarStarNN(nn.Module):\n",
    "    def __init__(self):\n",
    "        super(PulsarStarNN, self).__init__()\n",
    "        self.fc1 = nn.Linear(8, 100)\n",
    "        self.fc2 = nn.Linear(100, 100)\n",
    "        self.fc3 = nn.Linear(100, 2)\n",
    "        self.softmax = nn.Softmax(dim=1)\n",
    "    def forward(self, x):\n",
    "        x = F.relu(self.fc1(x))\n",
    "        x = F.relu(self.fc2(x))\n",
    "        return self.softmax(self.fc3(x))"
   ]
  },
  {
   "cell_type": "code",
   "execution_count": 13,
   "metadata": {},
   "outputs": [
    {
     "data": {
      "text/plain": [
       "tensor([[ 1.3688e+02,  5.0343e+01,  4.9895e-02,  ...,  2.7450e+01,\n",
       "          6.2563e+00,  4.0046e+01],\n",
       "        [ 1.2861e+02,  5.7560e+01, -2.3658e-01,  ...,  9.4742e+00,\n",
       "          1.9996e+01,  4.7134e+02],\n",
       "        [ 1.2823e+02,  5.1861e+01,  1.2516e-01,  ...,  1.3047e+01,\n",
       "          1.1284e+01,  1.6208e+02],\n",
       "        ...,\n",
       "        [ 1.3009e+02,  5.3819e+01,  1.2580e-02,  ...,  1.8976e+01,\n",
       "          8.1628e+00,  7.7611e+01],\n",
       "        [ 1.1047e+02,  4.1400e+01,  2.6901e-01,  ...,  2.9450e+01,\n",
       "          5.1517e+00,  2.7192e+01],\n",
       "        [ 1.2469e+02,  5.5435e+01,  1.3789e-02,  ...,  1.3998e+01,\n",
       "          9.3828e+00,  1.1886e+02]])"
      ]
     },
     "execution_count": 13,
     "metadata": {},
     "output_type": "execute_result"
    }
   ],
   "source": [
    "train_X, test_X, train_y, test_y = train_test_split(inputs, labels, test_size=0.25)\n",
    "train_X = torch.tensor(train_X.values).float()\n",
    "train_X"
   ]
  },
  {
   "cell_type": "code",
   "execution_count": 14,
   "metadata": {},
   "outputs": [
    {
     "data": {
      "text/plain": [
       "tensor([0, 0, 0,  ..., 0, 0, 0])"
      ]
     },
     "execution_count": 14,
     "metadata": {},
     "output_type": "execute_result"
    }
   ],
   "source": [
    "test_X = torch.tensor(test_X.values).float()\n",
    "train_y = torch.tensor(train_y.values).long()\n",
    "test_y = torch.tensor(test_y.values).long()\n",
    "train_y"
   ]
  },
  {
   "cell_type": "markdown",
   "metadata": {},
   "source": [
    "## Training the Network\n",
    "\n",
    "We will train the neural network for 200 epochs"
   ]
  },
  {
   "cell_type": "code",
   "execution_count": 15,
   "metadata": {},
   "outputs": [],
   "source": [
    "net = PulsarStarNN()"
   ]
  },
  {
   "cell_type": "code",
   "execution_count": 16,
   "metadata": {},
   "outputs": [
    {
     "data": {
      "text/plain": [
       "PulsarStarNN(\n",
       "  (fc1): Linear(in_features=8, out_features=100, bias=True)\n",
       "  (fc2): Linear(in_features=100, out_features=100, bias=True)\n",
       "  (fc3): Linear(in_features=100, out_features=2, bias=True)\n",
       "  (softmax): Softmax(dim=1)\n",
       ")"
      ]
     },
     "execution_count": 16,
     "metadata": {},
     "output_type": "execute_result"
    }
   ],
   "source": [
    "net"
   ]
  },
  {
   "cell_type": "code",
   "execution_count": 17,
   "metadata": {},
   "outputs": [
    {
     "name": "stderr",
     "output_type": "stream",
     "text": [
      "/usr/local/lib/python3.8/dist-packages/torch/autograd/__init__.py:130: UserWarning: CUDA initialization: Found no NVIDIA driver on your system. Please check that you have an NVIDIA GPU and installed a driver from http://www.nvidia.com/Download/index.aspx (Triggered internally at  /pytorch/c10/cuda/CUDAFunctions.cpp:100.)\n",
      "  Variable._execution_engine.run_backward(\n"
     ]
    },
    {
     "name": "stdout",
     "output_type": "stream",
     "text": [
      "Epoch 1, Loss: 0.4119891822338104\n",
      "Epoch 2, Loss: 0.40242329239845276\n",
      "Epoch 3, Loss: 0.39886000752449036\n",
      "Epoch 4, Loss: 0.3950626850128174\n",
      "Epoch 5, Loss: 0.391140341758728\n",
      "Epoch 6, Loss: 0.38749274611473083\n",
      "Epoch 7, Loss: 0.38420283794403076\n",
      "Epoch 8, Loss: 0.3811623454093933\n",
      "Epoch 9, Loss: 0.3782862722873688\n",
      "Epoch 10, Loss: 0.37554553151130676\n",
      "Epoch 11, Loss: 0.3729666769504547\n",
      "Epoch 12, Loss: 0.3705929219722748\n",
      "Epoch 13, Loss: 0.3684258759021759\n",
      "Epoch 14, Loss: 0.36648252606391907\n",
      "Epoch 15, Loss: 0.3647569417953491\n",
      "Epoch 16, Loss: 0.36324217915534973\n",
      "Epoch 17, Loss: 0.3619237542152405\n",
      "Epoch 18, Loss: 0.3607816994190216\n",
      "Epoch 19, Loss: 0.3597841262817383\n",
      "Epoch 20, Loss: 0.3589088022708893\n",
      "Epoch 21, Loss: 0.3581377863883972\n",
      "Epoch 22, Loss: 0.3574499189853668\n",
      "Epoch 23, Loss: 0.35683387517929077\n",
      "Epoch 24, Loss: 0.35627877712249756\n",
      "Epoch 25, Loss: 0.3557748794555664\n",
      "Epoch 26, Loss: 0.355312317609787\n",
      "Epoch 27, Loss: 0.354888916015625\n",
      "Epoch 28, Loss: 0.35449641942977905\n",
      "Epoch 29, Loss: 0.35413289070129395\n",
      "Epoch 30, Loss: 0.35379278659820557\n",
      "Epoch 31, Loss: 0.35347211360931396\n",
      "Epoch 32, Loss: 0.3531699776649475\n",
      "Epoch 33, Loss: 0.3528832793235779\n",
      "Epoch 34, Loss: 0.35261258482933044\n",
      "Epoch 35, Loss: 0.3523530662059784\n",
      "Epoch 36, Loss: 0.35210269689559937\n",
      "Epoch 37, Loss: 0.3518643379211426\n",
      "Epoch 38, Loss: 0.3516388237476349\n",
      "Epoch 39, Loss: 0.3514236807823181\n",
      "Epoch 40, Loss: 0.3512185215950012\n",
      "Epoch 41, Loss: 0.3510233163833618\n",
      "Epoch 42, Loss: 0.35083529353141785\n",
      "Epoch 43, Loss: 0.3506559729576111\n",
      "Epoch 44, Loss: 0.3504835069179535\n",
      "Epoch 45, Loss: 0.350317120552063\n",
      "Epoch 46, Loss: 0.3501577079296112\n",
      "Epoch 47, Loss: 0.35000234842300415\n",
      "Epoch 48, Loss: 0.34985238313674927\n",
      "Epoch 49, Loss: 0.3497060537338257\n",
      "Epoch 50, Loss: 0.34956425428390503\n",
      "Epoch 51, Loss: 0.349426805973053\n",
      "Epoch 52, Loss: 0.34929293394088745\n",
      "Epoch 53, Loss: 0.3491622805595398\n",
      "Epoch 54, Loss: 0.3490355610847473\n",
      "Epoch 55, Loss: 0.34891071915626526\n",
      "Epoch 56, Loss: 0.34878969192504883\n",
      "Epoch 57, Loss: 0.34867072105407715\n",
      "Epoch 58, Loss: 0.3485550284385681\n",
      "Epoch 59, Loss: 0.34844183921813965\n",
      "Epoch 60, Loss: 0.3483310639858246\n",
      "Epoch 61, Loss: 0.34822288155555725\n",
      "Epoch 62, Loss: 0.3481169641017914\n",
      "Epoch 63, Loss: 0.3480129539966583\n",
      "Epoch 64, Loss: 0.3479120433330536\n",
      "Epoch 65, Loss: 0.34781280159950256\n",
      "Epoch 66, Loss: 0.3477162718772888\n",
      "Epoch 67, Loss: 0.3476223051548004\n",
      "Epoch 68, Loss: 0.34752964973449707\n",
      "Epoch 69, Loss: 0.3474389314651489\n",
      "Epoch 70, Loss: 0.3473496437072754\n",
      "Epoch 71, Loss: 0.3472632169723511\n",
      "Epoch 72, Loss: 0.34717831015586853\n",
      "Epoch 73, Loss: 0.3470967710018158\n",
      "Epoch 74, Loss: 0.3470157980918884\n",
      "Epoch 75, Loss: 0.3469369411468506\n",
      "Epoch 76, Loss: 0.34685978293418884\n",
      "Epoch 77, Loss: 0.3467836081981659\n",
      "Epoch 78, Loss: 0.3467087149620056\n",
      "Epoch 79, Loss: 0.3466346561908722\n",
      "Epoch 80, Loss: 0.34656381607055664\n",
      "Epoch 81, Loss: 0.34649205207824707\n",
      "Epoch 82, Loss: 0.3464222848415375\n",
      "Epoch 83, Loss: 0.3463536202907562\n",
      "Epoch 84, Loss: 0.34628650546073914\n",
      "Epoch 85, Loss: 0.34622102975845337\n",
      "Epoch 86, Loss: 0.34615716338157654\n",
      "Epoch 87, Loss: 0.3460952639579773\n",
      "Epoch 88, Loss: 0.34603428840637207\n",
      "Epoch 89, Loss: 0.34597477316856384\n",
      "Epoch 90, Loss: 0.34591802954673767\n",
      "Epoch 91, Loss: 0.3458626866340637\n",
      "Epoch 92, Loss: 0.3458087742328644\n",
      "Epoch 93, Loss: 0.3457551896572113\n",
      "Epoch 94, Loss: 0.34570300579071045\n",
      "Epoch 95, Loss: 0.3456514775753021\n",
      "Epoch 96, Loss: 0.3456011116504669\n",
      "Epoch 97, Loss: 0.3455517888069153\n",
      "Epoch 98, Loss: 0.345502644777298\n",
      "Epoch 99, Loss: 0.345454603433609\n",
      "Epoch 100, Loss: 0.3454074263572693\n",
      "Epoch 101, Loss: 0.34536129236221313\n",
      "Epoch 102, Loss: 0.34531623125076294\n",
      "Epoch 103, Loss: 0.3452712893486023\n",
      "Epoch 104, Loss: 0.34522783756256104\n",
      "Epoch 105, Loss: 0.3451859951019287\n",
      "Epoch 106, Loss: 0.3451440930366516\n",
      "Epoch 107, Loss: 0.3451032340526581\n",
      "Epoch 108, Loss: 0.3450632393360138\n",
      "Epoch 109, Loss: 0.34502434730529785\n",
      "Epoch 110, Loss: 0.34498539566993713\n",
      "Epoch 111, Loss: 0.34494802355766296\n",
      "Epoch 112, Loss: 0.344910591840744\n",
      "Epoch 113, Loss: 0.34487393498420715\n",
      "Epoch 114, Loss: 0.3448386788368225\n",
      "Epoch 115, Loss: 0.34480419754981995\n",
      "Epoch 116, Loss: 0.34476977586746216\n",
      "Epoch 117, Loss: 0.3447360098361969\n",
      "Epoch 118, Loss: 0.34470313787460327\n",
      "Epoch 119, Loss: 0.34467050433158875\n",
      "Epoch 120, Loss: 0.3446381986141205\n",
      "Epoch 121, Loss: 0.344606876373291\n",
      "Epoch 122, Loss: 0.3445757031440735\n",
      "Epoch 123, Loss: 0.3445448875427246\n",
      "Epoch 124, Loss: 0.34451499581336975\n",
      "Epoch 125, Loss: 0.34448525309562683\n",
      "Epoch 126, Loss: 0.3444555997848511\n",
      "Epoch 127, Loss: 0.3444271385669708\n",
      "Epoch 128, Loss: 0.3443979024887085\n",
      "Epoch 129, Loss: 0.344369113445282\n",
      "Epoch 130, Loss: 0.34434089064598083\n",
      "Epoch 131, Loss: 0.34431296586990356\n",
      "Epoch 132, Loss: 0.34428566694259644\n",
      "Epoch 133, Loss: 0.3442593812942505\n",
      "Epoch 134, Loss: 0.34423205256462097\n",
      "Epoch 135, Loss: 0.3442058563232422\n",
      "Epoch 136, Loss: 0.34417977929115295\n",
      "Epoch 137, Loss: 0.3441546559333801\n",
      "Epoch 138, Loss: 0.34412944316864014\n",
      "Epoch 139, Loss: 0.3441038727760315\n",
      "Epoch 140, Loss: 0.3440791368484497\n",
      "Epoch 141, Loss: 0.34405508637428284\n",
      "Epoch 142, Loss: 0.3440307080745697\n",
      "Epoch 143, Loss: 0.34400680661201477\n",
      "Epoch 144, Loss: 0.3439834415912628\n",
      "Epoch 145, Loss: 0.34396079182624817\n",
      "Epoch 146, Loss: 0.34393835067749023\n",
      "Epoch 147, Loss: 0.34391677379608154\n",
      "Epoch 148, Loss: 0.3438948094844818\n",
      "Epoch 149, Loss: 0.34387296438217163\n",
      "Epoch 150, Loss: 0.34385114908218384\n",
      "Epoch 151, Loss: 0.34383028745651245\n",
      "Epoch 152, Loss: 0.34380924701690674\n",
      "Epoch 153, Loss: 0.3437882661819458\n",
      "Epoch 154, Loss: 0.343767911195755\n",
      "Epoch 155, Loss: 0.34374716877937317\n",
      "Epoch 156, Loss: 0.3437269628047943\n",
      "Epoch 157, Loss: 0.34370702505111694\n",
      "Epoch 158, Loss: 0.34368690848350525\n",
      "Epoch 159, Loss: 0.34366726875305176\n",
      "Epoch 160, Loss: 0.3436483144760132\n",
      "Epoch 161, Loss: 0.34362950921058655\n",
      "Epoch 162, Loss: 0.3436105251312256\n",
      "Epoch 163, Loss: 0.34359171986579895\n",
      "Epoch 164, Loss: 0.34357261657714844\n",
      "Epoch 165, Loss: 0.34355422854423523\n",
      "Epoch 166, Loss: 0.34353622794151306\n",
      "Epoch 167, Loss: 0.3435181975364685\n",
      "Epoch 168, Loss: 0.343500018119812\n",
      "Epoch 169, Loss: 0.34348222613334656\n",
      "Epoch 170, Loss: 0.34346482157707214\n",
      "Epoch 171, Loss: 0.3434472680091858\n",
      "Epoch 172, Loss: 0.3434292674064636\n",
      "Epoch 173, Loss: 0.34341156482696533\n",
      "Epoch 174, Loss: 0.3433944582939148\n",
      "Epoch 175, Loss: 0.3433779180049896\n",
      "Epoch 176, Loss: 0.3433610200881958\n",
      "Epoch 177, Loss: 0.343344122171402\n",
      "Epoch 178, Loss: 0.34332770109176636\n",
      "Epoch 179, Loss: 0.3433106541633606\n",
      "Epoch 180, Loss: 0.34329384565353394\n",
      "Epoch 181, Loss: 0.3432781994342804\n",
      "Epoch 182, Loss: 0.3432619869709015\n",
      "Epoch 183, Loss: 0.3432460129261017\n",
      "Epoch 184, Loss: 0.3432305157184601\n",
      "Epoch 185, Loss: 0.34321558475494385\n",
      "Epoch 186, Loss: 0.3431996703147888\n",
      "Epoch 187, Loss: 0.3431842625141144\n",
      "Epoch 188, Loss: 0.3431693911552429\n",
      "Epoch 189, Loss: 0.34315451979637146\n",
      "Epoch 190, Loss: 0.34313955903053284\n",
      "Epoch 191, Loss: 0.34312504529953003\n",
      "Epoch 192, Loss: 0.3431108295917511\n",
      "Epoch 193, Loss: 0.3430961072444916\n",
      "Epoch 194, Loss: 0.3430815041065216\n",
      "Epoch 195, Loss: 0.3430674374103546\n",
      "Epoch 196, Loss: 0.3430529832839966\n",
      "Epoch 197, Loss: 0.3430389165878296\n",
      "Epoch 198, Loss: 0.3430253863334656\n",
      "Epoch 199, Loss: 0.3430115580558777\n",
      "Epoch 200, Loss: 0.34299802780151367\n"
     ]
    }
   ],
   "source": [
    "criterion = nn.CrossEntropyLoss()\n",
    "optimizer = optim.SGD(net.parameters(), lr=0.01)\n",
    "losses = []\n",
    "for epoch in range(1, 201):\n",
    "    optimizer.zero_grad()\n",
    "    outputs = net(train_X)\n",
    "    loss = criterion(outputs, train_y)\n",
    "    loss.backward()\n",
    "    optimizer.step()\n",
    "    losses.append(loss.item())\n",
    "    print(\"Epoch {}, Loss: {}\".format(epoch, loss.item()))"
   ]
  },
  {
   "cell_type": "code",
   "execution_count": 18,
   "metadata": {},
   "outputs": [
    {
     "data": {
      "text/plain": [
       "[<matplotlib.lines.Line2D at 0x7f7dc8bea2e0>]"
      ]
     },
     "execution_count": 18,
     "metadata": {},
     "output_type": "execute_result"
    },
    {
     "data": {
      "image/png": "[encoded data removed]",
      "text/plain": [
       "<Figure size 432x288 with 1 Axes>"
      ]
     },
     "metadata": {
      "needs_background": "light"
     },
     "output_type": "display_data"
    }
   ],
   "source": [
    "plt.plot(losses)"
   ]
  },
  {
   "cell_type": "code",
   "execution_count": 19,
   "metadata": {},
   "outputs": [
    {
     "data": {
      "text/plain": [
       "0.9736312849162011"
      ]
     },
     "execution_count": 19,
     "metadata": {},
     "output_type": "execute_result"
    }
   ],
   "source": [
    "pred_test = net(test_X)\n",
    "_, preds_y = torch.max(pred_test, 1)\n",
    "accuracy_score(test_y, preds_y)"
   ]
  },
  {
   "cell_type": "code",
   "execution_count": 20,
   "metadata": {
    "scrolled": true
   },
   "outputs": [
    {
     "name": "stdout",
     "output_type": "stream",
     "text": [
      "              precision    recall  f1-score   support\n",
      "\n",
      "           0       0.98      1.00      0.99      4059\n",
      "           1       0.94      0.76      0.84       416\n",
      "\n",
      "    accuracy                           0.97      4475\n",
      "   macro avg       0.96      0.88      0.91      4475\n",
      "weighted avg       0.97      0.97      0.97      4475\n",
      "\n"
     ]
    }
   ],
   "source": [
    "print(classification_report(test_y, preds_y))"
   ]
  },
  {
   "cell_type": "code",
   "execution_count": 21,
   "metadata": {},
   "outputs": [
    {
     "data": {
      "text/plain": [
       "array([[4040,   19],\n",
       "       [  99,  317]])"
      ]
     },
     "execution_count": 21,
     "metadata": {},
     "output_type": "execute_result"
    }
   ],
   "source": [
    "confusion_matrix(test_y, preds_y)"
   ]
  },
  {
   "cell_type": "markdown",
   "metadata": {},
   "source": [
    "# MLP \n",
    "            precision    recall  f1-score   support\n",
    "\n",
    "            0       0.98      1.00      0.99      4059\n",
    "            1       0.94      0.76      0.84       416\n",
    "\n",
    "    accuracy                            0.97      4475\n",
    "    macro avg       0.96      0.88      0.91      4475\n",
    "    weighted avg    0.97      0.97      0.97      4475\n",
    "\n",
    "\n",
    "# KNN\n",
    "            precision    recall  f1-score   support\n",
    "\n",
    "            0       0.98      0.99      0.99      4070\n",
    "            1       0.93      0.85      0.89       405\n",
    "\n",
    "    accuracy                            0.98      4475\n",
    "    macro avg       0.96      0.92      0.94      4475\n",
    "    weighted avg    0.98      0.98      0.98      4475\n",
    "\n",
    "\n",
    "# SVM\n",
    "           precision    recall  f1-score   support\n",
    "\n",
    "           0       0.98      1.00      0.99      4070\n",
    "           1       0.95      0.82      0.88       405\n",
    "\n",
    "    accuracy                           0.98      4475\n",
    "    macro avg      0.96      0.91      0.94      4475\n",
    "    weighted avg   0.98      0.98      0.98      4475\n",
    "\n",
    "\n",
    "# Random Forest\n",
    "           precision    recall  f1-score   support\n",
    "\n",
    "           0       0.98      0.99      0.99      4070\n",
    "           1       0.93      0.83      0.88       405\n",
    "\n",
    "    accuracy                           0.98      4475\n",
    "    macro avg      0.96      0.91      0.94      4475\n",
    "    weighted avg   0.98      0.98      0.98      4475\n",
    "\n",
    "    \n",
    "# Gradient Boost\n",
    "           precision    recall  f1-score   support\n",
    "\n",
    "           0       0.98      0.99      0.99      4070\n",
    "           1       0.94      0.84      0.89       405\n",
    "\n",
    "    accuracy                           0.98      4475\n",
    "    macro avg      0.96      0.92      0.94      4475\n",
    "\n",
    "\n",
    "# Ada Boost\n",
    "           precision    recall  f1-score   support\n",
    "\n",
    "           0       0.98      0.99      0.99      4070\n",
    "           1       0.93      0.82      0.87       405\n",
    "\n",
    "    accuracy                           0.98      4475\n",
    "    macro avg      0.96      0.91      0.93      4475\n",
    "    weighted avg   0.98      0.98      0.98      4475\n",
    "\n",
    "\n",
    "# Decision Tree\n",
    "\n",
    "           precision    recall  f1-score   support\n",
    "\n",
    "           0       0.98      0.99      0.99      4070\n",
    "           1       0.93      0.84      0.89       405\n",
    "\n",
    "    accuracy                           0.98      4475\n",
    "    macro avg      0.96      0.92      0.94      4475\n",
    "    weighted avg   0.98      0.98      0.98      4475\n"
   ]
  }
 ],
 "metadata": {
  "kernelspec": {
   "display_name": "Python 3",
   "language": "python",
   "name": "python3"
  },
  "language_info": {
   "codemirror_mode": {
    "name": "ipython",
    "version": 3
   },
   "file_extension": ".py",
   "mimetype": "text/x-python",
   "name": "python",
   "nbconvert_exporter": "python",
   "pygments_lexer": "ipython3",
   "version": "3.8.5"
  }
 },
 "nbformat": 4,
 "nbformat_minor": 1
}
