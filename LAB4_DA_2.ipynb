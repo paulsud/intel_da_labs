{
 "cells": [
  {
   "cell_type": "markdown",
   "metadata": {},
   "source": [
    "# 2. Сверточные сети\n",
    "### Задача классификации изображений"
   ]
  },
  {
   "cell_type": "code",
   "execution_count": 26,
   "metadata": {
    "_cell_guid": "b1076dfc-b9ad-4769-8c92-a6c4dae69d19",
    "_uuid": "8f2839f25d086af736a60e9eeb907d3b93b6e0e5"
   },
   "outputs": [],
   "source": [
    "import numpy as np  \n",
    "import pandas as pd \n",
    "\n",
    "%matplotlib inline\n",
    "import matplotlib.pyplot as plt\n",
    "import matplotlib.image as mpimg\n",
    "\n",
    "from PIL import Image\n",
    "\n",
    "import torch\n",
    "import torch.nn as nn\n",
    "import torch.nn.functional as F\n",
    "from torch.utils.data import DataLoader, Dataset\n",
    "import torchvision\n",
    "import torchvision.transforms as transforms\n",
    "\n",
    "from sklearn.model_selection import train_test_split\n",
    "import os, random"
   ]
  },
  {
   "cell_type": "code",
   "execution_count": 12,
   "metadata": {},
   "outputs": [
    {
     "data": {
      "text/html": [
       "<div>\n",
       "<style scoped>\n",
       "    .dataframe tbody tr th:only-of-type {\n",
       "        vertical-align: middle;\n",
       "    }\n",
       "\n",
       "    .dataframe tbody tr th {\n",
       "        vertical-align: top;\n",
       "    }\n",
       "\n",
       "    .dataframe thead th {\n",
       "        text-align: right;\n",
       "    }\n",
       "</style>\n",
       "<table border=\"1\" class=\"dataframe\">\n",
       "  <thead>\n",
       "    <tr style=\"text-align: right;\">\n",
       "      <th></th>\n",
       "      <th>id</th>\n",
       "      <th>has_cactus</th>\n",
       "    </tr>\n",
       "  </thead>\n",
       "  <tbody>\n",
       "    <tr>\n",
       "      <th>0</th>\n",
       "      <td>0004be2cfeaba1c0361d39e2b000257b.jpg</td>\n",
       "      <td>1</td>\n",
       "    </tr>\n",
       "    <tr>\n",
       "      <th>1</th>\n",
       "      <td>000c8a36845c0208e833c79c1bffedd1.jpg</td>\n",
       "      <td>1</td>\n",
       "    </tr>\n",
       "    <tr>\n",
       "      <th>2</th>\n",
       "      <td>000d1e9a533f62e55c289303b072733d.jpg</td>\n",
       "      <td>1</td>\n",
       "    </tr>\n",
       "    <tr>\n",
       "      <th>3</th>\n",
       "      <td>0011485b40695e9138e92d0b3fb55128.jpg</td>\n",
       "      <td>1</td>\n",
       "    </tr>\n",
       "    <tr>\n",
       "      <th>4</th>\n",
       "      <td>0014d7a11e90b62848904c1418fc8cf2.jpg</td>\n",
       "      <td>1</td>\n",
       "    </tr>\n",
       "  </tbody>\n",
       "</table>\n",
       "</div>"
      ],
      "text/plain": [
       "                                     id  has_cactus\n",
       "0  0004be2cfeaba1c0361d39e2b000257b.jpg           1\n",
       "1  000c8a36845c0208e833c79c1bffedd1.jpg           1\n",
       "2  000d1e9a533f62e55c289303b072733d.jpg           1\n",
       "3  0011485b40695e9138e92d0b3fb55128.jpg           1\n",
       "4  0014d7a11e90b62848904c1418fc8cf2.jpg           1"
      ]
     },
     "execution_count": 12,
     "metadata": {},
     "output_type": "execute_result"
    }
   ],
   "source": [
    "data_dir = '../input'\n",
    "train_dir = data_dir + '/train/'\n",
    "test_dir = data_dir + '/test/'\n",
    "labels = pd.read_csv(\"../input/train.csv\")\n",
    "labels.head()"
   ]
  },
  {
   "cell_type": "code",
   "execution_count": 15,
   "metadata": {},
   "outputs": [
    {
     "name": "stdout",
     "output_type": "stream",
     "text": [
      "1    13136\n",
      "0     4364\n",
      "Name: has_cactus, dtype: int64\n"
     ]
    }
   ],
   "source": [
    "balance = labels['has_cactus'].value_counts()\n",
    "print(balance)"
   ]
  },
  {
   "cell_type": "code",
   "execution_count": 17,
   "metadata": {},
   "outputs": [
    {
     "name": "stdout",
     "output_type": "stream",
     "text": [
      "Number of training samples:14000\n",
      "Number of validation samples:3500\n",
      "Number of testing samples:4000\n"
     ]
    }
   ],
   "source": [
    "train, valid = train_test_split(labels, stratify=labels.has_cactus, test_size=0.2)\n",
    "print('Number of training samples:{0}'.format(len(train)))\n",
    "print('Number of validation samples:{0}'.format(len(valid)))\n",
    "print('Number of testing samples:{0}'.format(len(os.listdir(test_dir))))"
   ]
  },
  {
   "cell_type": "code",
   "execution_count": 19,
   "metadata": {},
   "outputs": [],
   "source": [
    "num_epochs = 25\n",
    "num_classes = 2\n",
    "batch_size = 128\n",
    "learning_rate = 0.002\n",
    "device = torch.device('cuda:0' if torch.cuda.is_available() else 'cpu')\n",
    "\n",
    "class CactusData(Dataset):\n",
    "    def __init__(self, split_data, data_root = './', transform=None):\n",
    "        super().__init__()\n",
    "        self.df = split_data.values\n",
    "        self.data_root = data_root\n",
    "        self.transform = transform\n",
    "\n",
    "    def __len__(self):\n",
    "        return len(self.df)\n",
    "    \n",
    "    def __getitem__(self, index):\n",
    "        img_name,label = self.df[index]\n",
    "        img_path = os.path.join(self.data_root, img_name)\n",
    "        image = mpimg.imread(img_path)\n",
    "        if self.transform is not None:\n",
    "            image = self.transform(image)\n",
    "        return image, label"
   ]
  },
  {
   "cell_type": "code",
   "execution_count": 21,
   "metadata": {},
   "outputs": [],
   "source": [
    "mean = [0.5, 0.5, 0.5]\n",
    "std = [0.5, 0.5, 0.5]\n",
    "\n",
    "train_transf = transforms.Compose([transforms.ToPILImage(),\n",
    "                                   transforms.ToTensor()])\n",
    "\n",
    "valid_transf = transforms.Compose([transforms.ToPILImage(),\n",
    "                                  transforms.ToTensor()])\n",
    "\n",
    "\n",
    "train_data = CactusData(split_data = train, data_root = train_dir, transform = train_transf)\n",
    "valid_data = CactusData(split_data = valid, data_root = train_dir, transform = valid_transf)\n",
    "\n",
    "train_loader = DataLoader(dataset = train_data, batch_size = batch_size, shuffle = True, num_workers = 0)\n",
    "valid_loader = DataLoader(dataset = valid_data, batch_size = batch_size//2, shuffle = False, num_workers = 0)"
   ]
  },
  {
   "cell_type": "code",
   "execution_count": 22,
   "metadata": {},
   "outputs": [],
   "source": [
    "class CactusCNN(nn.Module):\n",
    "    def __init__(self):\n",
    "        super(CactusCNN, self).__init__()\n",
    "        self.conv1 = nn.Sequential(\n",
    "                nn.Conv2d(in_channels=3,out_channels=32,kernel_size=3,stride=1,padding=0),\n",
    "                nn.BatchNorm2d(32),\n",
    "                nn.ReLU(inplace=True),\n",
    "                nn.MaxPool2d(2,2))\n",
    "        self.conv2 = nn.Sequential(\n",
    "                nn.Conv2d(in_channels=32,out_channels=64,kernel_size=2,stride=1,padding=1),\n",
    "                nn.BatchNorm2d(64),\n",
    "                nn.ReLU(inplace=True),\n",
    "                nn.MaxPool2d(2,2))\n",
    "        self.conv3 = nn.Sequential(\n",
    "                nn.Conv2d(in_channels=64,out_channels=128,kernel_size=3,stride=1,padding=1),\n",
    "                nn.BatchNorm2d(128),\n",
    "                nn.ReLU(inplace=True),\n",
    "                nn.MaxPool2d(2,2))\n",
    "        self.conv4 = nn.Sequential(\n",
    "                nn.Conv2d(in_channels=128,out_channels=256,kernel_size=3,stride=1,padding=1),\n",
    "                nn.BatchNorm2d(256),\n",
    "                nn.ReLU(inplace=True),\n",
    "                nn.MaxPool2d(2,2))\n",
    "        \n",
    "        self.fc = nn.Sequential(\n",
    "                nn.Linear(256 * 2 * 2, 1024),\n",
    "                nn.ReLU(inplace=True),\n",
    "                nn.Dropout(0.25),\n",
    "                nn.Linear(1024, 2))\n",
    "\n",
    "    def forward(self,x):\n",
    "        x = self.conv1(x)\n",
    "        x = self.conv2(x)\n",
    "        x = self.conv3(x)\n",
    "        x = self.conv4(x)\n",
    "        x = x.view(x.shape[0],-1)\n",
    "        x = self.fc(x)\n",
    "        return x"
   ]
  },
  {
   "cell_type": "code",
   "execution_count": 23,
   "metadata": {},
   "outputs": [],
   "source": [
    "model = CactusCNN().to(device)\n",
    "criterion = nn.CrossEntropyLoss()\n",
    "optimizer = torch.optim.Adam(model.parameters(), lr=learning_rate)"
   ]
  },
  {
   "cell_type": "code",
   "execution_count": 25,
   "metadata": {},
   "outputs": [
    {
     "name": "stdout",
     "output_type": "stream",
     "text": [
      "Epoch [1/25], Step [100/110], Loss: 0.0832\n",
      "Epoch [2/25], Step [100/110], Loss: 0.0637\n",
      "Epoch [3/25], Step [100/110], Loss: 0.0141\n",
      "Epoch [4/25], Step [100/110], Loss: 0.0108\n",
      "Epoch [5/25], Step [100/110], Loss: 0.0037\n",
      "Epoch [6/25], Step [100/110], Loss: 0.0081\n",
      "Epoch [7/25], Step [100/110], Loss: 0.0018\n",
      "Epoch [8/25], Step [100/110], Loss: 0.0129\n",
      "Epoch [9/25], Step [100/110], Loss: 0.0028\n",
      "Epoch [10/25], Step [100/110], Loss: 0.0044\n",
      "Epoch [11/25], Step [100/110], Loss: 0.0018\n",
      "Epoch [12/25], Step [100/110], Loss: 0.0048\n",
      "Epoch [13/25], Step [100/110], Loss: 0.0003\n",
      "Epoch [14/25], Step [100/110], Loss: 0.0032\n",
      "Epoch [15/25], Step [100/110], Loss: 0.0049\n",
      "Epoch [16/25], Step [100/110], Loss: 0.0006\n",
      "Epoch [17/25], Step [100/110], Loss: 0.0016\n",
      "Epoch [18/25], Step [100/110], Loss: 0.0004\n",
      "Epoch [19/25], Step [100/110], Loss: 0.0002\n",
      "Epoch [20/25], Step [100/110], Loss: 0.0007\n",
      "Epoch [21/25], Step [100/110], Loss: 0.0003\n",
      "Epoch [22/25], Step [100/110], Loss: 0.0002\n",
      "Epoch [23/25], Step [100/110], Loss: 0.0019\n",
      "Epoch [24/25], Step [100/110], Loss: 0.0029\n",
      "Epoch [25/25], Step [100/110], Loss: 0.0059\n"
     ]
    }
   ],
   "source": [
    "total_step = len(train_loader)\n",
    "\n",
    "for epoch in range(num_epochs):\n",
    "    for i, (images, labels) in enumerate(train_loader):\n",
    "        images = images.to(device)\n",
    "        labels = labels.to(device)\n",
    "        \n",
    "        outputs = model(images)\n",
    "        loss = criterion(outputs, labels)\n",
    "        \n",
    "        optimizer.zero_grad()\n",
    "        loss.backward()\n",
    "        optimizer.step()\n",
    "        \n",
    "        if (i+1) % 100 == 0:\n",
    "            print ('Epoch [{}/{}], Step [{}/{}], Loss: {:.4f}' \n",
    "                   .format(epoch+1, num_epochs, i+1, total_step, loss.item()))"
   ]
  },
  {
   "cell_type": "code",
   "execution_count": 27,
   "metadata": {},
   "outputs": [
    {
     "name": "stdout",
     "output_type": "stream",
     "text": [
      "Test Accuracy: 97.51428571428572 %\n"
     ]
    }
   ],
   "source": [
    "model.eval()\n",
    "with torch.no_grad():\n",
    "    correct = 0\n",
    "    total = 0\n",
    "    for images, labels in valid_loader:\n",
    "        images = images.to(device)\n",
    "        labels = labels.to(device)\n",
    "        outputs = model(images)\n",
    "        _, predicted = torch.max(outputs.data, 1)\n",
    "        total += labels.size(0)\n",
    "        correct += (predicted == labels).sum().item()\n",
    "          \n",
    "    print('Test Accuracy: {} %'.format(100 * correct / total))"
   ]
  }
 ],
 "metadata": {
  "kernelspec": {
   "display_name": "Python 3",
   "language": "python",
   "name": "python3"
  },
  "language_info": {
   "codemirror_mode": {
    "name": "ipython",
    "version": 3
   },
   "file_extension": ".py",
   "mimetype": "text/x-python",
   "name": "python",
   "nbconvert_exporter": "python",
   "pygments_lexer": "ipython3",
   "version": "3.8.5"
  }
 },
 "nbformat": 4,
 "nbformat_minor": 1
}
